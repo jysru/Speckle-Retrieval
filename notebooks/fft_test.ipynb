{
 "cells": [
  {
   "cell_type": "code",
   "execution_count": 175,
   "id": "4d0e7283",
   "metadata": {},
   "outputs": [],
   "source": [
    "%load_ext autoreload\n",
    "%autoreload 2\n",
    "\n",
    "import torch\n",
    "import speckleret.torch as tspr\n",
    "\n",
    "import matplotlib.pyplot as plt"
   ]
  },
  {
   "cell_type": "code",
   "execution_count": 186,
   "id": "812a7179",
   "metadata": {},
   "outputs": [
    {
     "name": "stdout",
     "output_type": "stream",
     "text": [
      "Total time: 0.8157 seconds\n",
      "Average time per loop: 40.7848 ms\n"
     ]
    }
   ],
   "source": [
    "from contextlib import contextmanager\n",
    "import time\n",
    "\n",
    "@contextmanager\n",
    "def timing(device: str = \"cpu\"):\n",
    "    if device.startswith(\"cuda\"):\n",
    "        torch.cuda.synchronize()\n",
    "        start_event = torch.cuda.Event(enable_timing=True)\n",
    "        end_event = torch.cuda.Event(enable_timing=True)\n",
    "        start_event.record()\n",
    "        yield lambda: start_event, end_event\n",
    "        end_event.record()\n",
    "        torch.cuda.synchronize()\n",
    "        elapsed_time_ms = start_event.elapsed_time(end_event)\n",
    "        print(f\"Total time: {elapsed_time_ms/1000:.4f} seconds\")\n",
    "        print(f\"Average time per loop: {elapsed_time_ms / n_loops:.4f} ms\")\n",
    "    else:\n",
    "        start_time = time.time()\n",
    "        yield lambda: None  # unused for CPU\n",
    "        elapsed_time = time.time() - start_time\n",
    "        print(f\"Total time: {elapsed_time:.4f} seconds\")\n",
    "        print(f\"Average time per loop: {elapsed_time / n_loops:.6f} seconds\")\n",
    "\n",
    "\n",
    "\n",
    "device = 'cuda'  # or 'cpu'\n",
    "# device = 'cuda'  # or 'cpu'\n",
    "n = 200\n",
    "N = 100\n",
    "C = 10\n",
    "n_loops = 20\n",
    "\n",
    "x = torch.randn((N, C, n, n), dtype=torch.cfloat, device=device)\n",
    "_ = torch.fft.fft2(x)\n",
    "torch.cuda.synchronize()\n",
    "\n",
    "with timing(device):\n",
    "    for _ in range(n_loops):\n",
    "        x = torch.randn(size=(N, C, n, n), dtype=torch.cfloat, device=device)\n",
    "        y = tspr.transforms.fourier_transform(x)\n",
    "        # y = tspr.transforms.fourier_transform_n(x)\n",
    "\n",
    "\n",
    "\n"
   ]
  },
  {
   "cell_type": "code",
   "execution_count": null,
   "id": "01716cdb",
   "metadata": {},
   "outputs": [],
   "source": [
    "()"
   ]
  }
 ],
 "metadata": {
  "kernelspec": {
   "display_name": "ml",
   "language": "python",
   "name": "python3"
  },
  "language_info": {
   "codemirror_mode": {
    "name": "ipython",
    "version": 3
   },
   "file_extension": ".py",
   "mimetype": "text/x-python",
   "name": "python",
   "nbconvert_exporter": "python",
   "pygments_lexer": "ipython3",
   "version": "3.9.13"
  }
 },
 "nbformat": 4,
 "nbformat_minor": 5
}
